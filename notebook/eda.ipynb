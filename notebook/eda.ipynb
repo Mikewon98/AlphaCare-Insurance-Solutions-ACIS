{
 "cells": [
  {
   "cell_type": "markdown",
   "id": "634415e3",
   "metadata": {},
   "source": [
    "##  Insurance Data Analysis\n",
    "\n",
    "### Exploratory Data Analysis\n"
   ]
  },
  {
   "cell_type": "code",
   "execution_count": 25,
   "id": "caa516cb",
   "metadata": {},
   "outputs": [],
   "source": [
    "import matplotlib.pyplot as plt\n",
    "import seaborn as sns\n",
    "import pandas as pd\n",
    "import numpy as np\n",
    "import os, sys\n",
    "\n",
    "sys.path.append('../scripts') "
   ]
  },
  {
   "cell_type": "code",
   "execution_count": 26,
   "id": "8ec8abb6",
   "metadata": {},
   "outputs": [],
   "source": [
    "# Import load_data function from scripts\n",
    "from load_data import load_data\n",
    "\n",
    "data = load_data('../data/raw/MachineLearningRating_v3.zip', filename='MachineLearningRating_v3.txt')"
   ]
  },
  {
   "cell_type": "code",
   "execution_count": null,
   "id": "c42427d8",
   "metadata": {},
   "outputs": [],
   "source": [
    "data.tail()"
   ]
  },
  {
   "cell_type": "code",
   "execution_count": null,
   "id": "5f50eb14",
   "metadata": {},
   "outputs": [],
   "source": [
    "data.shape"
   ]
  },
  {
   "cell_type": "markdown",
   "id": "2d71ab73",
   "metadata": {},
   "source": [
    "### Data Cleaning"
   ]
  },
  {
   "cell_type": "code",
   "execution_count": null,
   "id": "15369c71",
   "metadata": {},
   "outputs": [],
   "source": [
    "# Import the Class to data processing\n",
    "\n",
    "from data_processing import DataProcessing\n",
    "# Create instance of the class\n",
    "data_processing = DataProcessing(data)\n",
    "\n",
    "# Summary of Missing data\n",
    "missing_summary = data_processing.missing_data_summary()\n",
    "\n",
    "# Display results\n",
    "missing_summary"
   ]
  },
  {
   "cell_type": "code",
   "execution_count": 30,
   "id": "27574b1f",
   "metadata": {},
   "outputs": [],
   "source": [
    "cols_to_drop = ['NumberOfVehiclesInFleet', \n",
    "                'CrossBorder', \n",
    "                'CustomValueEstimate', \n",
    "                'Converted', 'Rebuilt', \n",
    "                'WrittenOff']\n",
    "\n",
    "# Drop these columns\n",
    "data = data_processing.handle_missing_data('high', cols_to_drop)\n"
   ]
  },
  {
   "cell_type": "code",
   "execution_count": 31,
   "id": "3ff820d2",
   "metadata": {},
   "outputs": [],
   "source": [
    "# Impute or drop columns with moderate missing data\n",
    "missing_cols = ['NewVehicle', 'Bank', 'AccountType']\n",
    "data = data_processing.handle_missing_data('moderate', missing_cols)"
   ]
  },
  {
   "cell_type": "code",
   "execution_count": 32,
   "id": "870ebf86",
   "metadata": {},
   "outputs": [],
   "source": [
    "# Handle low missing data (standard imputation)\n",
    "missing_cols = ['Gender', 'MaritalStatus', 'Cylinders', 'cubiccapacity', \n",
    "                'kilowatts', 'NumberOfDoors', 'VehicleIntroDate', 'Model', \n",
    "                'make', 'VehicleType', 'mmcode', 'bodytype', 'CapitalOutstanding']\n",
    "\n",
    "data = data_processing.handle_missing_data('low', missing_cols)\n"
   ]
  },
  {
   "cell_type": "code",
   "execution_count": null,
   "id": "bd415c89",
   "metadata": {},
   "outputs": [],
   "source": [
    "data.duplicated().sum()"
   ]
  },
  {
   "cell_type": "code",
   "execution_count": null,
   "id": "9fb752fe",
   "metadata": {},
   "outputs": [],
   "source": [
    "# Statistic summary of numerical features\n",
    "num_cols = ['SumInsured', 'CalculatedPremiumPerTerm', 'TotalPremium', 'TotalClaims']\n",
    "display(data[num_cols].describe())"
   ]
  },
  {
   "cell_type": "code",
   "execution_count": null,
   "id": "afbc434c",
   "metadata": {},
   "outputs": [],
   "source": [
    "# Check the Data types of each column\n",
    "\n",
    "data_types = data.dtypes\n",
    "\n",
    "data_types.reset_index(name='data type')"
   ]
  },
  {
   "cell_type": "code",
   "execution_count": 36,
   "id": "f4b060c5",
   "metadata": {},
   "outputs": [],
   "source": [
    "# Converts the VehicleIntroDate column from object to datetime format.\n",
    "\n",
    "data['VehicleIntroDate'] = pd.to_datetime(data['VehicleIntroDate'], format='%d/%m/%Y', errors='coerce')  # Convert with error handling"
   ]
  },
  {
   "cell_type": "markdown",
   "id": "3b786f3b",
   "metadata": {},
   "source": [
    "### Univarate Analysis"
   ]
  },
  {
   "cell_type": "code",
   "execution_count": 37,
   "id": "08bea17f",
   "metadata": {},
   "outputs": [],
   "source": [
    "# Import visualizer\n",
    "from data_visualization import DataVisualizer\n",
    "# Create instance of the class\n",
    "vis = DataVisualizer(data)\n",
    "\n",
    "# Define numerical columns\n",
    "numerical_cols = [\n",
    "    'SumInsured', 'CalculatedPremiumPerTerm', \n",
    "    'TotalPremium', 'TotalClaims'\n",
    "]\n",
    "# Define categorical columns\n",
    "categorical_cols = [\n",
    "    'LegalType', 'Bank', 'AccountType', 'MaritalStatus', \n",
    "    'Gender', 'Province', 'VehicleType', \n",
    "    'AlarmImmobiliser', 'TrackingDevice', \n",
    "    'Product'\n",
    "]\n"
   ]
  },
  {
   "cell_type": "markdown",
   "id": "cf34b2c1",
   "metadata": {},
   "source": [
    "**Insights from Univariate Analysis**\n",
    "\n",
    "**Numerical Variables:**\n",
    "\n",
    "- **Sum Insured:** The distribution is right-skewed, with most policies having lower sums insured and a few with very high amounts. This indicates a diverse range of policy values, with clusters around specific sums suggesting potential policy tiers.\n",
    "\n",
    "- **Calculated Premium Per Term:** This variable is also right-skewed, with a peak around a specific amount and variability in premiums. The presence of significantly higher premiums reflects pricing differences among policies.\n",
    "\n",
    "- **Total Premium:** The distribution is right-skewed, with most policies showing lower total premiums and a peak around zero. High total premiums may be due to refunds or high-risk factors.\n",
    "\n",
    "Overall, these distributions reveal a wide range of policy values and premiums, with identifiable clusters and outliers that can aid in risk assessment and pricing strategies.\n",
    "\n",
    "**Categorical Variables:**\n",
    "\n",
    "- **Legal Type:** Most policies are issued to individuals, indicating a focus on personal insurance. Private companies and close corporations have fewer policies, with public companies, partnerships, and sole proprietorships being even less common.\n",
    "\n",
    "- **Marital Status:** A significant portion of data has \"Not specified\" for marital status, suggesting incomplete information. Single and married individuals are less represented, highlighting potential issues with data collection or privacy concerns.\n",
    "\n",
    "- **Province:** Gauteng has the highest number of policies, with Western Cape and KwaZulu-Natal showing moderate numbers. Other provinces have fewer policies, indicating a concentration of market presence in specific regions.\n",
    "\n",
    "- **Vehicle Type:** Passenger vehicles dominate, with fewer policies for commercial vehicle types (medium, heavy, light, and bus). This underscores the company's focus on passenger vehicles.\n",
    "\n",
    "- **Gender:** A substantial portion of data has \"Not specified\" for gender, indicating missing information. Male and female categories are present but less common, suggesting potential gaps in data collection or reporting."
   ]
  },
  {
   "cell_type": "markdown",
   "id": "93483df4",
   "metadata": {},
   "source": [
    "**Bivariate or Multivariate Analysis:**\n",
    "\n",
    "- **Correlations and Associations:** Explore relationships between the monthly changes `TotalPremium` and `TotalClaims` as a function of ZipCode, using scatter plots and correlation matrices.\n"
   ]
  },
  {
   "cell_type": "markdown",
   "id": "c13cf750",
   "metadata": {},
   "source": [
    "### Data Comparison"
   ]
  },
  {
   "cell_type": "code",
   "execution_count": null,
   "id": "90ad1455",
   "metadata": {},
   "outputs": [],
   "source": [
    "# Cover type frequence distributions accross the regions\n",
    "\n",
    "cover_type_counts = data['CoverType'].value_counts()\n",
    "\n",
    "# Create a bar chart with a color palette\n",
    "plt.figure(figsize=(12, 4))\n",
    "sns.barplot(x=cover_type_counts.index, y=cover_type_counts.values, palette='viridis')\n",
    "plt.title('Cover Type Frequencies')\n",
    "plt.xlabel('Cover Type')\n",
    "plt.ylabel('Count')\n",
    "plt.xticks(rotation=90)  # Rotate labels to the bottom\n",
    "plt.show()"
   ]
  },
  {
   "cell_type": "code",
   "execution_count": 39,
   "id": "335ed8ca",
   "metadata": {},
   "outputs": [],
   "source": [
    "# Define the most common cover types\n",
    "common_cover_types = [\n",
    "    'Own Damage', 'Passenger Liability', 'Windscreen', 'Third Party', \n",
    "    'Keys and Alarms', 'Signage and Vehicle Wraps', 'Emergency Charges', \n",
    "    'Cleaning and Removal of Accidental Debris'\n",
    "]\n",
    "\n",
    "# Ensure the output directory exists before saving the plot\n",
    "os.makedirs('Data/visualizations', exist_ok=True)\n",
    "\n",
    "# Plot the distribution accross regions\n",
    "vis.plot_geographical_trends(common_cover_types)\n"
   ]
  },
  {
   "cell_type": "code",
   "execution_count": 40,
   "id": "687e55ec",
   "metadata": {},
   "outputs": [],
   "source": [
    "data.to_csv('../data/cleaned/MachineLearningRating_v3.txt', sep='|', index=False)"
   ]
  },
  {
   "cell_type": "markdown",
   "id": "acb8c0ba",
   "metadata": {},
   "source": [
    "#### 1. Loss Ratio By Province"
   ]
  },
  {
   "cell_type": "code",
   "execution_count": null,
   "id": "085cbb04",
   "metadata": {},
   "outputs": [],
   "source": [
    "# Compute Loss Ratio\n",
    "data[\"LossRatio\"] = data[\"TotalClaims\"] / data[\"TotalPremium\"]\n",
    "\n",
    "# Plot\n",
    "plt.figure(figsize=(12,6))\n",
    "sns.boxplot(data=data, x=\"Province\", y=\"LossRatio\")\n",
    "plt.xticks(rotation=45)\n",
    "plt.title(\"Loss Ratio Distribution by Province\", fontsize=14)\n",
    "plt.ylabel(\"Loss Ratio\")\n",
    "plt.xlabel(\"Province\")\n",
    "plt.tight_layout()\n",
    "plt.show()"
   ]
  },
  {
   "cell_type": "markdown",
   "id": "f3de2e7d",
   "metadata": {},
   "source": [
    "#### Total Claims by Vehicle Make (Top 10)"
   ]
  },
  {
   "cell_type": "code",
   "execution_count": null,
   "id": "499112d8",
   "metadata": {},
   "outputs": [],
   "source": [
    "# Group and sort by claims\n",
    "top_makes = data.groupby(\"make\")[\"TotalClaims\"].sum().sort_values(ascending=False).head(10)\n",
    "\n",
    "# Plot\n",
    "plt.figure(figsize=(10,6))\n",
    "sns.barplot(x=top_makes.values, y=top_makes.index, palette=\"magma\")\n",
    "plt.title(\"Top 10 Vehicle Makes by Total Claims\", fontsize=14)\n",
    "plt.xlabel(\"Total Claims\")\n",
    "plt.ylabel(\"Vehicle Make\")\n",
    "plt.tight_layout()\n",
    "plt.show()"
   ]
  },
  {
   "cell_type": "markdown",
   "id": "70cc8367",
   "metadata": {},
   "source": [
    "### Loss Ratio by Gender"
   ]
  },
  {
   "cell_type": "code",
   "execution_count": null,
   "id": "18385e5d",
   "metadata": {},
   "outputs": [],
   "source": [
    "plt.figure(figsize=(6,5))\n",
    "sns.boxplot(data=data, x=\"Gender\", y=\"LossRatio\", palette=\"Set2\")\n",
    "plt.title(\"Loss Ratio by Gender\", fontsize=14)\n",
    "plt.xlabel(\"Gender\")\n",
    "plt.ylabel(\"Loss Ratio\")\n",
    "plt.tight_layout()\n",
    "plt.show()"
   ]
  }
 ],
 "metadata": {
  "kernelspec": {
   "display_name": ".venv",
   "language": "python",
   "name": "python3"
  },
  "language_info": {
   "codemirror_mode": {
    "name": "ipython",
    "version": 3
   },
   "file_extension": ".py",
   "mimetype": "text/x-python",
   "name": "python",
   "nbconvert_exporter": "python",
   "pygments_lexer": "ipython3",
   "version": "3.12.3"
  }
 },
 "nbformat": 4,
 "nbformat_minor": 5
}
