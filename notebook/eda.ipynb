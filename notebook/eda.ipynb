{
 "cells": [
  {
   "cell_type": "markdown",
   "id": "634415e3",
   "metadata": {},
   "source": [
    "##  Insurance Data Analysis\n",
    "\n",
    "### Exploratory Data Analysis\n"
   ]
  },
  {
   "cell_type": "code",
   "execution_count": 3,
   "id": "caa516cb",
   "metadata": {},
   "outputs": [],
   "source": [
    "import matplotlib.pyplot as plt\n",
    "import seaborn as sns\n",
    "import pandas as pd\n",
    "import numpy as np\n",
    "import os, sys\n",
    "\n",
    "sys.path.append('../scripts') "
   ]
  },
  {
   "cell_type": "code",
   "execution_count": 5,
   "id": "8ec8abb6",
   "metadata": {},
   "outputs": [],
   "source": [
    "# Import load_data function from scripts\n",
    "from load_data import load_data\n",
    "\n",
    "data = load_data('../data/raw/MachineLearningRating_v3.zip', filename='MachineLearningRating_v3.txt')"
   ]
  },
  {
   "cell_type": "code",
   "execution_count": null,
   "id": "c42427d8",
   "metadata": {},
   "outputs": [],
   "source": [
    "data.head()"
   ]
  },
  {
   "cell_type": "code",
   "execution_count": 7,
   "id": "5f50eb14",
   "metadata": {},
   "outputs": [
    {
     "data": {
      "text/plain": [
       "(1000098, 52)"
      ]
     },
     "execution_count": 7,
     "metadata": {},
     "output_type": "execute_result"
    }
   ],
   "source": [
    "data.shape"
   ]
  },
  {
   "cell_type": "markdown",
   "id": "2d71ab73",
   "metadata": {},
   "source": [
    "### Data Cleaning"
   ]
  },
  {
   "cell_type": "code",
   "execution_count": null,
   "id": "15369c71",
   "metadata": {},
   "outputs": [],
   "source": [
    "# Import the Class to data processing\n",
    "\n",
    "from data_processing import DataProcessing\n",
    "# Create instance of the class\n",
    "data_processing = DataProcessing(data)\n",
    "\n",
    "# Summary of Missing data\n",
    "missing_summary = data_processing.missing_data_summary()\n",
    "\n",
    "# Display results\n",
    "missing_summary"
   ]
  },
  {
   "cell_type": "code",
   "execution_count": 9,
   "id": "27574b1f",
   "metadata": {},
   "outputs": [],
   "source": [
    "cols_to_drop = ['NumberOfVehiclesInFleet', \n",
    "                'CrossBorder', \n",
    "                'CustomValueEstimate', \n",
    "                'Converted', 'Rebuilt', \n",
    "                'WrittenOff']\n",
    "\n",
    "# Drop these columns\n",
    "data = data_processing.handle_missing_data('high', cols_to_drop)\n"
   ]
  },
  {
   "cell_type": "code",
   "execution_count": 10,
   "id": "3ff820d2",
   "metadata": {},
   "outputs": [],
   "source": [
    "# Impute or drop columns with moderate missing data\n",
    "missing_cols = ['NewVehicle', 'Bank', 'AccountType']\n",
    "data = data_processing.handle_missing_data('moderate', missing_cols)"
   ]
  },
  {
   "cell_type": "code",
   "execution_count": 11,
   "id": "870ebf86",
   "metadata": {},
   "outputs": [],
   "source": [
    "# Handle low missing data (standard imputation)\n",
    "missing_cols = ['Gender', 'MaritalStatus', 'Cylinders', 'cubiccapacity', \n",
    "                'kilowatts', 'NumberOfDoors', 'VehicleIntroDate', 'Model', \n",
    "                'make', 'VehicleType', 'mmcode', 'bodytype', 'CapitalOutstanding']\n",
    "\n",
    "data = data_processing.handle_missing_data('low', missing_cols)\n"
   ]
  },
  {
   "cell_type": "code",
   "execution_count": 12,
   "id": "bd415c89",
   "metadata": {},
   "outputs": [
    {
     "data": {
      "text/plain": [
       "74"
      ]
     },
     "execution_count": 12,
     "metadata": {},
     "output_type": "execute_result"
    }
   ],
   "source": [
    "data.duplicated().sum()"
   ]
  },
  {
   "cell_type": "code",
   "execution_count": null,
   "id": "9fb752fe",
   "metadata": {},
   "outputs": [],
   "source": [
    "# Statistic summary of numerical features\n",
    "num_cols = ['SumInsured', 'CalculatedPremiumPerTerm', 'TotalPremium', 'TotalClaims']\n",
    "display(data[num_cols].describe())"
   ]
  },
  {
   "cell_type": "code",
   "execution_count": null,
   "id": "afbc434c",
   "metadata": {},
   "outputs": [],
   "source": [
    "# Check the Data types of each column\n",
    "\n",
    "data_types = data.dtypes\n",
    "\n",
    "data_types.reset_index(name='data type')"
   ]
  },
  {
   "cell_type": "code",
   "execution_count": 15,
   "id": "f4b060c5",
   "metadata": {},
   "outputs": [],
   "source": [
    "# Converts the VehicleIntroDate column from object to datetime format.\n",
    "\n",
    "data['VehicleIntroDate'] = pd.to_datetime(data['VehicleIntroDate'], format='%d/%m/%Y', errors='coerce')  # Convert with error handling"
   ]
  },
  {
   "cell_type": "markdown",
   "id": "3b786f3b",
   "metadata": {},
   "source": [
    "### Univarate Analysis"
   ]
  },
  {
   "cell_type": "code",
   "execution_count": 17,
   "id": "08bea17f",
   "metadata": {},
   "outputs": [],
   "source": [
    "# Import visualizer\n",
    "from data_visualization import DataVisualizer\n",
    "# Create instance of the class\n",
    "vis = DataVisualizer(data)\n",
    "\n",
    "# Define numerical columns\n",
    "numerical_cols = [\n",
    "    'SumInsured', 'CalculatedPremiumPerTerm', \n",
    "    'TotalPremium', 'TotalClaims'\n",
    "]\n",
    "# Define categorical columns\n",
    "categorical_cols = [\n",
    "    'LegalType', 'Bank', 'AccountType', 'MaritalStatus', \n",
    "    'Gender', 'Province', 'VehicleType', \n",
    "    'AlarmImmobiliser', 'TrackingDevice', \n",
    "    'Product'\n",
    "]\n"
   ]
  },
  {
   "cell_type": "markdown",
   "id": "cf34b2c1",
   "metadata": {},
   "source": [
    "**Insights from Univariate Analysis**\n",
    "\n",
    "**Numerical Variables:**\n",
    "\n",
    "- **Sum Insured:** The distribution is right-skewed, with most policies having lower sums insured and a few with very high amounts. This indicates a diverse range of policy values, with clusters around specific sums suggesting potential policy tiers.\n",
    "\n",
    "- **Calculated Premium Per Term:** This variable is also right-skewed, with a peak around a specific amount and variability in premiums. The presence of significantly higher premiums reflects pricing differences among policies.\n",
    "\n",
    "- **Total Premium:** The distribution is right-skewed, with most policies showing lower total premiums and a peak around zero. High total premiums may be due to refunds or high-risk factors.\n",
    "\n",
    "Overall, these distributions reveal a wide range of policy values and premiums, with identifiable clusters and outliers that can aid in risk assessment and pricing strategies.\n",
    "\n",
    "**Categorical Variables:**\n",
    "\n",
    "- **Legal Type:** Most policies are issued to individuals, indicating a focus on personal insurance. Private companies and close corporations have fewer policies, with public companies, partnerships, and sole proprietorships being even less common.\n",
    "\n",
    "- **Marital Status:** A significant portion of data has \"Not specified\" for marital status, suggesting incomplete information. Single and married individuals are less represented, highlighting potential issues with data collection or privacy concerns.\n",
    "\n",
    "- **Province:** Gauteng has the highest number of policies, with Western Cape and KwaZulu-Natal showing moderate numbers. Other provinces have fewer policies, indicating a concentration of market presence in specific regions.\n",
    "\n",
    "- **Vehicle Type:** Passenger vehicles dominate, with fewer policies for commercial vehicle types (medium, heavy, light, and bus). This underscores the company's focus on passenger vehicles.\n",
    "\n",
    "- **Gender:** A substantial portion of data has \"Not specified\" for gender, indicating missing information. Male and female categories are present but less common, suggesting potential gaps in data collection or reporting."
   ]
  },
  {
   "cell_type": "markdown",
   "id": "93483df4",
   "metadata": {},
   "source": [
    "**Bivariate or Multivariate Analysis:**\n",
    "\n",
    "- **Correlations and Associations:** Explore relationships between the monthly changes `TotalPremium` and `TotalClaims` as a function of ZipCode, using scatter plots and correlation matrices.\n"
   ]
  },
  {
   "cell_type": "markdown",
   "id": "c13cf750",
   "metadata": {},
   "source": [
    "### Data Comparison"
   ]
  },
  {
   "cell_type": "code",
   "execution_count": null,
   "id": "90ad1455",
   "metadata": {},
   "outputs": [],
   "source": [
    "# Cover type frequence distributions accross the regions\n",
    "\n",
    "cover_type_counts = data['CoverType'].value_counts()\n",
    "\n",
    "# Create a bar chart with a color palette\n",
    "plt.figure(figsize=(12, 4))\n",
    "sns.barplot(x=cover_type_counts.index, y=cover_type_counts.values, palette='viridis')\n",
    "plt.title('Cover Type Frequencies')\n",
    "plt.xlabel('Cover Type')\n",
    "plt.ylabel('Count')\n",
    "plt.xticks(rotation=90)  # Rotate labels to the bottom\n",
    "plt.show()"
   ]
  },
  {
   "cell_type": "code",
   "execution_count": 22,
   "id": "335ed8ca",
   "metadata": {},
   "outputs": [],
   "source": [
    "# Define the most common cover types\n",
    "common_cover_types = [\n",
    "    'Own Damage', 'Passenger Liability', 'Windscreen', 'Third Party', \n",
    "    'Keys and Alarms', 'Signage and Vehicle Wraps', 'Emergency Charges', \n",
    "    'Cleaning and Removal of Accidental Debris'\n",
    "]\n",
    "\n",
    "# Ensure the output directory exists before saving the plot\n",
    "os.makedirs('Data/visualizations', exist_ok=True)\n",
    "\n",
    "# Plot the distribution accross regions\n",
    "vis.plot_geographical_trends(common_cover_types)\n"
   ]
  },
  {
   "cell_type": "code",
   "execution_count": null,
   "id": "8759ba22",
   "metadata": {},
   "outputs": [],
   "source": [
    "# Define numerical columns to detect outliers\n",
    "# numerical_cols = ['TotalPremium', 'SumInsured', 'CalculatedPremiumPerTerm', 'TotalClaims']\n",
    "# Detect outliers using boxplot\n",
    "# vis.plot_outliers_boxplot(numerical_cols)"
   ]
  },
  {
   "cell_type": "code",
   "execution_count": null,
   "id": "53f9c61b",
   "metadata": {},
   "outputs": [],
   "source": [
    "# Check outliers after the outliers were capped\n",
    "# vis1 = DataVisualizer(df_capped)\n",
    "# vis1.plot_outliers_boxplot(numerical_cols)"
   ]
  },
  {
   "cell_type": "code",
   "execution_count": null,
   "id": "851c893e",
   "metadata": {},
   "outputs": [
    {
     "ename": "NameError",
     "evalue": "name 'df_capped' is not defined",
     "output_type": "error",
     "traceback": [
      "\u001b[31m---------------------------------------------------------------------------\u001b[39m",
      "\u001b[31mNameError\u001b[39m                                 Traceback (most recent call last)",
      "\u001b[36mCell\u001b[39m\u001b[36m \u001b[39m\u001b[32mIn[25]\u001b[39m\u001b[32m, line 2\u001b[39m\n\u001b[32m      1\u001b[39m \u001b[38;5;66;03m# Save the cleaned data to csv for future analysis\u001b[39;00m\n\u001b[32m----> \u001b[39m\u001b[32m2\u001b[39m \u001b[43mdf_capped\u001b[49m.to_csv(\u001b[33m'\u001b[39m\u001b[33m../data/cleaned_data.csv\u001b[39m\u001b[33m'\u001b[39m)\n",
      "\u001b[31mNameError\u001b[39m: name 'df_capped' is not defined"
     ]
    }
   ],
   "source": [
    "# Save the cleaned data to csv for future analysis\n",
    "# df_capped.to_csv('../data/cleaned_data.csv')"
   ]
  }
 ],
 "metadata": {
  "kernelspec": {
   "display_name": ".venv",
   "language": "python",
   "name": "python3"
  },
  "language_info": {
   "codemirror_mode": {
    "name": "ipython",
    "version": 3
   },
   "file_extension": ".py",
   "mimetype": "text/x-python",
   "name": "python",
   "nbconvert_exporter": "python",
   "pygments_lexer": "ipython3",
   "version": "3.12.3"
  }
 },
 "nbformat": 4,
 "nbformat_minor": 5
}
